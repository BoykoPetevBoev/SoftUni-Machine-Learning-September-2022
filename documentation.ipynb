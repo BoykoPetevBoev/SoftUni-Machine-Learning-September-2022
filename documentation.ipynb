{
 "cells": [
  {
   "cell_type": "markdown",
   "metadata": {},
   "source": [
    "## Linear Regression: \n",
    "*Unveiling the Relationship Between Variables*\n",
    "\n",
    "Linear regression is a fundamental statistical method used to model the relationship between a dependent variable (y) and one or more independent variables (x). It assumes a linear association between the variables, meaning you can describe the relationship with a straight line.\n",
    "\n",
    "#### Formula:\n",
    "\n",
    "* **Dependent variable (y):** The variable you're trying to predict or explain.\n",
    "* **Independent variable (x):** The variable(s) you believe influence the dependent variable.\n",
    "* **Model:** The equation of the straight line that best fits the data points.\n",
    "* **Slope (a):** The coefficient that indicates the change in y for a one-unit change in x.\n",
    "* **Intercept (b):** The y-axis intercept of the line, representing the value of y when all x values are zero (not always meaningful in real-world applications).\n",
    "* **Residuals:** The difference between the actual y values and the predicted y values from the model.\n",
    "\n",
    "$$y = \\alpha x + \\beta$$\n",
    "\n",
    "#### Applications:\n",
    "\n",
    "Linear regression has a wide range of applications in various fields, including:\n",
    "\n",
    "* **Predicting house prices:** Based on features like square footage and location.\n",
    "* **Analyzing stock market trends:** Understanding how factors like interest rates affect stock prices.\n",
    "* **Customer churn prediction:** Identifying customers at risk of leaving.\n",
    "* **Scientific research:** Modeling relationships between physical phenomena.\n",
    "\n",
    "#### Benefits:\n",
    "\n",
    "* **Interpretability:** The linear relationship makes understanding the model and its results straightforward.\n",
    "* **Simplicity:** The model is relatively easy to implement and understand.\n",
    "* **Versatility:** Applicable to various domains with continuous dependent variables.\n",
    "\n",
    "#### Limitations:\n",
    "\n",
    "* **Linearity assumption:** The model assumes a linear relationship between variables, which may not always hold true.\n",
    "* **Outliers:** Sensitive to outliers that can significantly impact the model.\n",
    "* **Overfitting:** Can occur when the model captures random noise rather than the underlying relationship.\n",
    "\n",
    "#### Metrics:\n",
    "\n",
    "* **R-squared:** Represents the proportion of variance in the dependent variable explained by the model (higher is better).\n",
    "* **Mean squared error (MSE):** Measures the average squared difference between predicted and actual y values (lower is better)."
   ]
  },
  {
   "cell_type": "markdown",
   "metadata": {},
   "source": [
    "## Logistic Regression\n",
    "\n",
    "*Use a regression model to classify*\n",
    "\n",
    "Logistic regression is a statistical method specifically designed for classification tasks\n",
    "\n",
    "#### Benefits:\n",
    "\n",
    "* **Interpretability:** The weights provide insights into the relative importance of features in influencing the classification outcome.\n",
    "* **Simplicity:** Relatively easy to implement and understand compared to some complex deep learning models.\n",
    "\n",
    "#### Limitations:\n",
    "\n",
    "* **Linearity Assumption:** Assumes a linear relationship between features and the log odds of the outcome variable. May not be suitable for highly non-linear relationships.\n",
    "* **Overfitting:** Prone to overfitting if not regularized (techniques to prevent memorizing training data).\n",
    "\n",
    "#### Metrics:\n",
    "\n",
    "* **Accuracy:** Proportion of correctly classified cases.\n",
    "* **Precision:** Proportion of true positives among predicted positives.\n",
    "* **Recall:** Proportion of true positives identified by the model.\n",
    "* **AUC-ROC (Area Under the Receiver Operating Characteristic Curve):** Measures the model's ability to discriminate between classes.\n"
   ]
  },
  {
   "cell_type": "markdown",
   "metadata": {},
   "source": [
    "## Gradient Descent\n",
    "\n",
    "Gradient descent is an optimization algorithm commonly used in machine learning to find the minimum of a function. It's particularly valuable for training models that involve minimizing a cost function. \n",
    "\n",
    "#### Benefits:\n",
    "\n",
    "* Simple and efficient algorithm.\n",
    "* Widely applicable to various machine learning problems.\n",
    "* Easy to implement.\n",
    "\n",
    "#### Limitations:\n",
    "\n",
    "* Choosing a suitable learning rate is crucial. A small learning rate might lead to slow convergence, while a large learning rate might cause the algorithm to overshoot the minimum.\n",
    "* Gradient descent can get stuck in local minima (not the global minimum) if the cost function has multiple valleys."
   ]
  }
 ],
 "metadata": {
  "language_info": {
   "name": "python"
  }
 },
 "nbformat": 4,
 "nbformat_minor": 2
}
