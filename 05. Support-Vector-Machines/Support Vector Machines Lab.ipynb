{
 "cells": [
  {
   "cell_type": "code",
   "execution_count": 1,
   "metadata": {},
   "outputs": [],
   "source": [
    "%matplotlib inline"
   ]
  },
  {
   "cell_type": "code",
   "execution_count": 2,
   "metadata": {
    "deletable": false,
    "editable": false,
    "nbgrader": {
     "cell_type": "code",
     "checksum": "b8da29999fa548f09465d0b7e18732e9",
     "grade": false,
     "grade_id": "cell-7186dfefece144c8",
     "locked": true,
     "schema_version": 3,
     "solution": false
    }
   },
   "outputs": [],
   "source": [
    "import numpy as np\n",
    "import pandas as pd\n",
    "import matplotlib.pyplot as plt\n",
    "\n",
    "from sklearn.preprocessing import MinMaxScaler\n",
    "from sklearn.model_selection import train_test_split, StratifiedKFold, GridSearchCV\n",
    "from sklearn.tree import DecisionTreeClassifier, plot_tree\n",
    "from sklearn.ensemble import RandomForestClassifier\n",
    "from sklearn.metrics import make_scorer, f1_score\n",
    "from sklearn.svm import LinearSVC, SVC\n",
    "\n",
    "np.random.seed(24680)"
   ]
  },
  {
   "cell_type": "code",
   "execution_count": 3,
   "metadata": {
    "deletable": false,
    "nbgrader": {
     "cell_type": "code",
     "checksum": "a9ff523820808ea082177fae7c6bf6c4",
     "grade": false,
     "grade_id": "cell-98c4a3a245e45b8a",
     "locked": false,
     "schema_version": 3,
     "solution": true
    }
   },
   "outputs": [],
   "source": [
    "def assert_is_not_none(value, error_message=\"Value cannot be None\"):\n",
    "  if value is None:\n",
    "    raise AssertionError(error_message)"
   ]
  },
  {
   "cell_type": "markdown",
   "metadata": {},
   "source": [
    "# Ensemble Models and Support Vector Machines Lab\n",
    "## Training and comparing different algorithms"
   ]
  },
  {
   "cell_type": "markdown",
   "metadata": {},
   "source": [
    "Once again, we'll work with the bank dataset. This time, the data preprocessing steps have been done for you.\n",
    "\n",
    "The goal is to try and improve our predictions (if they can be improved at all) using different types of algorithms."
   ]
  },
  {
   "cell_type": "markdown",
   "metadata": {},
   "source": [
    "### 1. Read the data (1 point)\n",
    "This time you only need to read the data. The indicator variables have been separated out for you.\n",
    "\n",
    "Read the dataset and save it in the variable `bank_data`. The target column is `y`. Use the variables `bank_attributes` and `bank_labels` to save the attributes (explanatory variables, features, predictors), and labels (`y`)."
   ]
  },
  {
   "cell_type": "code",
   "execution_count": 4,
   "metadata": {
    "deletable": false,
    "nbgrader": {
     "cell_type": "code",
     "checksum": "5332a28d728ce835574c4a823df35a67",
     "grade": false,
     "grade_id": "cell-990a0dfca3a695e6",
     "locked": false,
     "schema_version": 3,
     "solution": true
    }
   },
   "outputs": [
    {
     "data": {
      "text/html": [
       "<div>\n",
       "<style scoped>\n",
       "    .dataframe tbody tr th:only-of-type {\n",
       "        vertical-align: middle;\n",
       "    }\n",
       "\n",
       "    .dataframe tbody tr th {\n",
       "        vertical-align: top;\n",
       "    }\n",
       "\n",
       "    .dataframe thead th {\n",
       "        text-align: right;\n",
       "    }\n",
       "</style>\n",
       "<table border=\"1\" class=\"dataframe\">\n",
       "  <thead>\n",
       "    <tr style=\"text-align: right;\">\n",
       "      <th></th>\n",
       "      <th>age</th>\n",
       "      <th>balance</th>\n",
       "      <th>day</th>\n",
       "      <th>duration</th>\n",
       "      <th>campaign</th>\n",
       "      <th>pdays</th>\n",
       "      <th>previous</th>\n",
       "      <th>job_admin.</th>\n",
       "      <th>job_blue-collar</th>\n",
       "      <th>job_entrepreneur</th>\n",
       "      <th>...</th>\n",
       "      <th>month_mar</th>\n",
       "      <th>month_may</th>\n",
       "      <th>month_nov</th>\n",
       "      <th>month_oct</th>\n",
       "      <th>month_sep</th>\n",
       "      <th>poutcome_failure</th>\n",
       "      <th>poutcome_other</th>\n",
       "      <th>poutcome_success</th>\n",
       "      <th>poutcome_unknown</th>\n",
       "      <th>y</th>\n",
       "    </tr>\n",
       "  </thead>\n",
       "  <tbody>\n",
       "    <tr>\n",
       "      <th>0</th>\n",
       "      <td>30</td>\n",
       "      <td>1787</td>\n",
       "      <td>19</td>\n",
       "      <td>79</td>\n",
       "      <td>1</td>\n",
       "      <td>-1</td>\n",
       "      <td>0</td>\n",
       "      <td>0</td>\n",
       "      <td>0</td>\n",
       "      <td>0</td>\n",
       "      <td>...</td>\n",
       "      <td>0</td>\n",
       "      <td>0</td>\n",
       "      <td>0</td>\n",
       "      <td>1</td>\n",
       "      <td>0</td>\n",
       "      <td>0</td>\n",
       "      <td>0</td>\n",
       "      <td>0</td>\n",
       "      <td>1</td>\n",
       "      <td>0</td>\n",
       "    </tr>\n",
       "    <tr>\n",
       "      <th>1</th>\n",
       "      <td>33</td>\n",
       "      <td>4789</td>\n",
       "      <td>11</td>\n",
       "      <td>220</td>\n",
       "      <td>1</td>\n",
       "      <td>339</td>\n",
       "      <td>4</td>\n",
       "      <td>0</td>\n",
       "      <td>0</td>\n",
       "      <td>0</td>\n",
       "      <td>...</td>\n",
       "      <td>0</td>\n",
       "      <td>1</td>\n",
       "      <td>0</td>\n",
       "      <td>0</td>\n",
       "      <td>0</td>\n",
       "      <td>1</td>\n",
       "      <td>0</td>\n",
       "      <td>0</td>\n",
       "      <td>0</td>\n",
       "      <td>0</td>\n",
       "    </tr>\n",
       "    <tr>\n",
       "      <th>2</th>\n",
       "      <td>35</td>\n",
       "      <td>1350</td>\n",
       "      <td>16</td>\n",
       "      <td>185</td>\n",
       "      <td>1</td>\n",
       "      <td>330</td>\n",
       "      <td>1</td>\n",
       "      <td>0</td>\n",
       "      <td>0</td>\n",
       "      <td>0</td>\n",
       "      <td>...</td>\n",
       "      <td>0</td>\n",
       "      <td>0</td>\n",
       "      <td>0</td>\n",
       "      <td>0</td>\n",
       "      <td>0</td>\n",
       "      <td>1</td>\n",
       "      <td>0</td>\n",
       "      <td>0</td>\n",
       "      <td>0</td>\n",
       "      <td>0</td>\n",
       "    </tr>\n",
       "    <tr>\n",
       "      <th>3</th>\n",
       "      <td>30</td>\n",
       "      <td>1476</td>\n",
       "      <td>3</td>\n",
       "      <td>199</td>\n",
       "      <td>4</td>\n",
       "      <td>-1</td>\n",
       "      <td>0</td>\n",
       "      <td>0</td>\n",
       "      <td>0</td>\n",
       "      <td>0</td>\n",
       "      <td>...</td>\n",
       "      <td>0</td>\n",
       "      <td>0</td>\n",
       "      <td>0</td>\n",
       "      <td>0</td>\n",
       "      <td>0</td>\n",
       "      <td>0</td>\n",
       "      <td>0</td>\n",
       "      <td>0</td>\n",
       "      <td>1</td>\n",
       "      <td>0</td>\n",
       "    </tr>\n",
       "    <tr>\n",
       "      <th>4</th>\n",
       "      <td>59</td>\n",
       "      <td>0</td>\n",
       "      <td>5</td>\n",
       "      <td>226</td>\n",
       "      <td>1</td>\n",
       "      <td>-1</td>\n",
       "      <td>0</td>\n",
       "      <td>0</td>\n",
       "      <td>1</td>\n",
       "      <td>0</td>\n",
       "      <td>...</td>\n",
       "      <td>0</td>\n",
       "      <td>1</td>\n",
       "      <td>0</td>\n",
       "      <td>0</td>\n",
       "      <td>0</td>\n",
       "      <td>0</td>\n",
       "      <td>0</td>\n",
       "      <td>0</td>\n",
       "      <td>1</td>\n",
       "      <td>0</td>\n",
       "    </tr>\n",
       "    <tr>\n",
       "      <th>...</th>\n",
       "      <td>...</td>\n",
       "      <td>...</td>\n",
       "      <td>...</td>\n",
       "      <td>...</td>\n",
       "      <td>...</td>\n",
       "      <td>...</td>\n",
       "      <td>...</td>\n",
       "      <td>...</td>\n",
       "      <td>...</td>\n",
       "      <td>...</td>\n",
       "      <td>...</td>\n",
       "      <td>...</td>\n",
       "      <td>...</td>\n",
       "      <td>...</td>\n",
       "      <td>...</td>\n",
       "      <td>...</td>\n",
       "      <td>...</td>\n",
       "      <td>...</td>\n",
       "      <td>...</td>\n",
       "      <td>...</td>\n",
       "      <td>...</td>\n",
       "    </tr>\n",
       "    <tr>\n",
       "      <th>4516</th>\n",
       "      <td>33</td>\n",
       "      <td>-333</td>\n",
       "      <td>30</td>\n",
       "      <td>329</td>\n",
       "      <td>5</td>\n",
       "      <td>-1</td>\n",
       "      <td>0</td>\n",
       "      <td>0</td>\n",
       "      <td>0</td>\n",
       "      <td>0</td>\n",
       "      <td>...</td>\n",
       "      <td>0</td>\n",
       "      <td>0</td>\n",
       "      <td>0</td>\n",
       "      <td>0</td>\n",
       "      <td>0</td>\n",
       "      <td>0</td>\n",
       "      <td>0</td>\n",
       "      <td>0</td>\n",
       "      <td>1</td>\n",
       "      <td>0</td>\n",
       "    </tr>\n",
       "    <tr>\n",
       "      <th>4517</th>\n",
       "      <td>57</td>\n",
       "      <td>-3313</td>\n",
       "      <td>9</td>\n",
       "      <td>153</td>\n",
       "      <td>1</td>\n",
       "      <td>-1</td>\n",
       "      <td>0</td>\n",
       "      <td>0</td>\n",
       "      <td>0</td>\n",
       "      <td>0</td>\n",
       "      <td>...</td>\n",
       "      <td>0</td>\n",
       "      <td>1</td>\n",
       "      <td>0</td>\n",
       "      <td>0</td>\n",
       "      <td>0</td>\n",
       "      <td>0</td>\n",
       "      <td>0</td>\n",
       "      <td>0</td>\n",
       "      <td>1</td>\n",
       "      <td>0</td>\n",
       "    </tr>\n",
       "    <tr>\n",
       "      <th>4518</th>\n",
       "      <td>57</td>\n",
       "      <td>295</td>\n",
       "      <td>19</td>\n",
       "      <td>151</td>\n",
       "      <td>11</td>\n",
       "      <td>-1</td>\n",
       "      <td>0</td>\n",
       "      <td>0</td>\n",
       "      <td>0</td>\n",
       "      <td>0</td>\n",
       "      <td>...</td>\n",
       "      <td>0</td>\n",
       "      <td>0</td>\n",
       "      <td>0</td>\n",
       "      <td>0</td>\n",
       "      <td>0</td>\n",
       "      <td>0</td>\n",
       "      <td>0</td>\n",
       "      <td>0</td>\n",
       "      <td>1</td>\n",
       "      <td>0</td>\n",
       "    </tr>\n",
       "    <tr>\n",
       "      <th>4519</th>\n",
       "      <td>28</td>\n",
       "      <td>1137</td>\n",
       "      <td>6</td>\n",
       "      <td>129</td>\n",
       "      <td>4</td>\n",
       "      <td>211</td>\n",
       "      <td>3</td>\n",
       "      <td>0</td>\n",
       "      <td>1</td>\n",
       "      <td>0</td>\n",
       "      <td>...</td>\n",
       "      <td>0</td>\n",
       "      <td>0</td>\n",
       "      <td>0</td>\n",
       "      <td>0</td>\n",
       "      <td>0</td>\n",
       "      <td>0</td>\n",
       "      <td>1</td>\n",
       "      <td>0</td>\n",
       "      <td>0</td>\n",
       "      <td>0</td>\n",
       "    </tr>\n",
       "    <tr>\n",
       "      <th>4520</th>\n",
       "      <td>44</td>\n",
       "      <td>1136</td>\n",
       "      <td>3</td>\n",
       "      <td>345</td>\n",
       "      <td>2</td>\n",
       "      <td>249</td>\n",
       "      <td>7</td>\n",
       "      <td>0</td>\n",
       "      <td>0</td>\n",
       "      <td>1</td>\n",
       "      <td>...</td>\n",
       "      <td>0</td>\n",
       "      <td>0</td>\n",
       "      <td>0</td>\n",
       "      <td>0</td>\n",
       "      <td>0</td>\n",
       "      <td>0</td>\n",
       "      <td>1</td>\n",
       "      <td>0</td>\n",
       "      <td>0</td>\n",
       "      <td>0</td>\n",
       "    </tr>\n",
       "  </tbody>\n",
       "</table>\n",
       "<p>4521 rows × 52 columns</p>\n",
       "</div>"
      ],
      "text/plain": [
       "      age  balance  day  duration  campaign  pdays  previous  job_admin.  \\\n",
       "0      30     1787   19        79         1     -1         0           0   \n",
       "1      33     4789   11       220         1    339         4           0   \n",
       "2      35     1350   16       185         1    330         1           0   \n",
       "3      30     1476    3       199         4     -1         0           0   \n",
       "4      59        0    5       226         1     -1         0           0   \n",
       "...   ...      ...  ...       ...       ...    ...       ...         ...   \n",
       "4516   33     -333   30       329         5     -1         0           0   \n",
       "4517   57    -3313    9       153         1     -1         0           0   \n",
       "4518   57      295   19       151        11     -1         0           0   \n",
       "4519   28     1137    6       129         4    211         3           0   \n",
       "4520   44     1136    3       345         2    249         7           0   \n",
       "\n",
       "      job_blue-collar  job_entrepreneur  ...  month_mar  month_may  month_nov  \\\n",
       "0                   0                 0  ...          0          0          0   \n",
       "1                   0                 0  ...          0          1          0   \n",
       "2                   0                 0  ...          0          0          0   \n",
       "3                   0                 0  ...          0          0          0   \n",
       "4                   1                 0  ...          0          1          0   \n",
       "...               ...               ...  ...        ...        ...        ...   \n",
       "4516                0                 0  ...          0          0          0   \n",
       "4517                0                 0  ...          0          1          0   \n",
       "4518                0                 0  ...          0          0          0   \n",
       "4519                1                 0  ...          0          0          0   \n",
       "4520                0                 1  ...          0          0          0   \n",
       "\n",
       "      month_oct  month_sep  poutcome_failure  poutcome_other  \\\n",
       "0             1          0                 0               0   \n",
       "1             0          0                 1               0   \n",
       "2             0          0                 1               0   \n",
       "3             0          0                 0               0   \n",
       "4             0          0                 0               0   \n",
       "...         ...        ...               ...             ...   \n",
       "4516          0          0                 0               0   \n",
       "4517          0          0                 0               0   \n",
       "4518          0          0                 0               0   \n",
       "4519          0          0                 0               1   \n",
       "4520          0          0                 0               1   \n",
       "\n",
       "      poutcome_success  poutcome_unknown  y  \n",
       "0                    0                 1  0  \n",
       "1                    0                 0  0  \n",
       "2                    0                 0  0  \n",
       "3                    0                 1  0  \n",
       "4                    0                 1  0  \n",
       "...                ...               ... ..  \n",
       "4516                 0                 1  0  \n",
       "4517                 0                 1  0  \n",
       "4518                 0                 1  0  \n",
       "4519                 0                 0  0  \n",
       "4520                 0                 0  0  \n",
       "\n",
       "[4521 rows x 52 columns]"
      ]
     },
     "execution_count": 4,
     "metadata": {},
     "output_type": "execute_result"
    }
   ],
   "source": [
    "bank_data = pd.read_csv(\"./data/bank.csv\", sep=\",\")\n",
    "\n",
    "bank_attributes = bank_data.drop(columns=\"y\")\n",
    "bank_labels = bank_data.y\n",
    "\n",
    "columns = bank_attributes.columns\n",
    "\n",
    "bank_data"
   ]
  },
  {
   "cell_type": "code",
   "execution_count": 5,
   "metadata": {
    "deletable": false,
    "editable": false,
    "nbgrader": {
     "cell_type": "code",
     "checksum": "fbb74ffbafaa9dbd29f5ecf74c4ea33d",
     "grade": true,
     "grade_id": "cell-dccbbb44b14b188f",
     "locked": true,
     "points": 1,
     "schema_version": 3,
     "solution": false
    }
   },
   "outputs": [],
   "source": [
    "assert_is_not_none(bank_data)\n",
    "assert_is_not_none(bank_attributes)\n",
    "assert_is_not_none(bank_labels)"
   ]
  },
  {
   "cell_type": "markdown",
   "metadata": {},
   "source": [
    "### 2. Normalize the data (1 point)\n",
    "Because both forests and SVMs are sensitive to non-scaled data, we need to normalize our dataset first.\n",
    "\n",
    "Rescale all columns in `bank_attributes` so they have mean = 0 and variance = 1. You can either look at the `sklearn` docs or do this yourself. When you're ready, overwrite the `bank_attributes` column. Make sure that you don't lose the column names in the process."
   ]
  },
  {
   "cell_type": "code",
   "execution_count": 6,
   "metadata": {
    "deletable": false,
    "nbgrader": {
     "cell_type": "code",
     "checksum": "c353a4a1516901f4222f00fc29885cfb",
     "grade": false,
     "grade_id": "cell-7cc2e9c90f8705c5",
     "locked": false,
     "schema_version": 3,
     "solution": true
    }
   },
   "outputs": [],
   "source": [
    "scaler = MinMaxScaler()\n",
    "income_attributes = scaler.fit_transform(bank_attributes)"
   ]
  },
  {
   "cell_type": "code",
   "execution_count": 7,
   "metadata": {
    "deletable": false,
    "editable": false,
    "nbgrader": {
     "cell_type": "code",
     "checksum": "ee58ea1d1a912cdf0b8e594249301c55",
     "grade": true,
     "grade_id": "cell-918a6111ee668331",
     "locked": true,
     "points": 1,
     "schema_version": 3,
     "solution": false
    }
   },
   "outputs": [],
   "source": [
    "assert_is_not_none(bank_attributes)"
   ]
  },
  {
   "cell_type": "markdown",
   "metadata": {},
   "source": [
    "### 3. Split the data (1 point)\n",
    "Use the standard 70% / 30% split. Since this is a classification problem, be sure to stratify the split according to the `bank_labels`."
   ]
  },
  {
   "cell_type": "code",
   "execution_count": 8,
   "metadata": {
    "deletable": false,
    "nbgrader": {
     "cell_type": "code",
     "checksum": "c2a9c6e60a741863517ff47df38195db",
     "grade": false,
     "grade_id": "cell-68893dc2052dd87c",
     "locked": false,
     "schema_version": 3,
     "solution": true
    }
   },
   "outputs": [
    {
     "data": {
      "text/plain": [
       "((3164, 51), (1357, 51), (3164,), (1357,))"
      ]
     },
     "execution_count": 8,
     "metadata": {},
     "output_type": "execute_result"
    }
   ],
   "source": [
    "bank_attributes_train, bank_attributes_test, bank_labels_train, bank_labels_test = train_test_split(\n",
    "    income_attributes,\n",
    "    bank_labels,\n",
    "    train_size=0.7, \n",
    "    test_size=0.3, \n",
    "    random_state=42, \n",
    "    stratify=bank_labels\n",
    ")\n",
    "bank_attributes_train.shape, bank_attributes_test.shape, bank_labels_train.shape, bank_labels_test.shape"
   ]
  },
  {
   "cell_type": "code",
   "execution_count": 9,
   "metadata": {
    "deletable": false,
    "editable": false,
    "nbgrader": {
     "cell_type": "code",
     "checksum": "abc82412e81ffd8b54d9eba9a4f5c943",
     "grade": true,
     "grade_id": "cell-215de695ca1c45ff",
     "locked": true,
     "points": 1,
     "schema_version": 3,
     "solution": false
    }
   },
   "outputs": [],
   "source": [
    "assert_is_not_none(bank_attributes_train)\n",
    "assert_is_not_none(bank_labels_train)\n",
    "\n",
    "assert_is_not_none(bank_attributes_test)\n",
    "assert_is_not_none(bank_labels_test)"
   ]
  },
  {
   "cell_type": "markdown",
   "metadata": {},
   "source": [
    "### 4. Prepare the cross-validation folds (1 point)\n",
    "Use a stratified k-fold cross-validation split, with $k = 5$. Fit it to the train data. Save the trained cross-validator to the variable `k_fold`.\n",
    "\n",
    "The data should already be shuffled. There's no need to shuffle it again."
   ]
  },
  {
   "cell_type": "code",
   "execution_count": 10,
   "metadata": {
    "deletable": false,
    "nbgrader": {
     "cell_type": "code",
     "checksum": "c9f2a480f45546e6abaf83a538698a7f",
     "grade": false,
     "grade_id": "cell-ef1a3912d43342f1",
     "locked": false,
     "schema_version": 3,
     "solution": true
    }
   },
   "outputs": [
    {
     "data": {
      "text/plain": [
       "StratifiedKFold(n_splits=5, random_state=None, shuffle=False)"
      ]
     },
     "execution_count": 10,
     "metadata": {},
     "output_type": "execute_result"
    }
   ],
   "source": [
    "k_fold = StratifiedKFold(n_splits=5, shuffle=False)\n",
    "k_fold\n",
    "# k_fold.fit(bank_attributes_train, bank_labels_train)"
   ]
  },
  {
   "cell_type": "code",
   "execution_count": 11,
   "metadata": {
    "deletable": false,
    "editable": false,
    "nbgrader": {
     "cell_type": "code",
     "checksum": "51421f786ff3b725b11aacb56e7643c8",
     "grade": true,
     "grade_id": "cell-8c28c6c421c7705a",
     "locked": true,
     "points": 1,
     "schema_version": 3,
     "solution": false
    }
   },
   "outputs": [],
   "source": [
    "assert_is_not_none(k_fold)"
   ]
  },
  {
   "cell_type": "markdown",
   "metadata": {},
   "source": [
    "### 5. Decision Tree (2 points)\n",
    "Use cross-validation to train and optimize the hyperparameters for a decision tree classifier.\n",
    "\n",
    "Use grid search with the following grid:\n",
    "* `max_depth`: 1, 5, 7, 15, 20\n",
    "* `min_samples_leaf`: 2, 5, 10, 12\n",
    "* `max_leaf_nodes`: 5, 10, 20\n",
    "\n",
    "Use the most appropriate scoring metric (remember that accuracy doesn't work in this case because the data is highly imbalanced; we need something which combines precision and recall). Use the cross-validation splits you just created.\n",
    "\n",
    "Save the grid results in `grid_search`. Save the best classifier in `tree_classifier`.\n",
    "\n",
    "Optionally, you can print and / or visualize the cross-validation results and the best chosen parameters."
   ]
  },
  {
   "cell_type": "code",
   "execution_count": 12,
   "metadata": {
    "deletable": false,
    "nbgrader": {
     "cell_type": "code",
     "checksum": "937595c41be7032fb2dc438a72db8a70",
     "grade": false,
     "grade_id": "cell-3603341dc3a0e1b4",
     "locked": false,
     "schema_version": 3,
     "solution": true
    }
   },
   "outputs": [
    {
     "name": "stdout",
     "output_type": "stream",
     "text": [
      "Decision tree; best score: 0.49101387340198166\n"
     ]
    },
    {
     "data": {
      "text/plain": [
       "[Text(0.7132352941176471, 0.9166666666666666, 'x[3] <= 0.212\\ngini = 0.204\\nsamples = 3164\\nvalue = [2799, 365]'),\n",
       " Text(0.5441176470588235, 0.75, 'x[49] <= 0.5\\ngini = 0.149\\nsamples = 2909\\nvalue = [2673, 236]'),\n",
       " Text(0.38235294117647056, 0.5833333333333334, 'x[45] <= 0.5\\ngini = 0.119\\nsamples = 2827\\nvalue = [2648, 179]'),\n",
       " Text(0.23529411764705882, 0.4166666666666667, 'x[3] <= 0.113\\ngini = 0.107\\nsamples = 2781\\nvalue = [2624, 157]'),\n",
       " Text(0.11764705882352941, 0.25, 'x[42] <= 0.5\\ngini = 0.068\\nsamples = 2329\\nvalue = [2247, 82]'),\n",
       " Text(0.058823529411764705, 0.08333333333333333, 'gini = 0.061\\nsamples = 2302\\nvalue = [2230, 72]'),\n",
       " Text(0.17647058823529413, 0.08333333333333333, 'gini = 0.466\\nsamples = 27\\nvalue = [17, 10]'),\n",
       " Text(0.35294117647058826, 0.25, 'x[34] <= 0.5\\ngini = 0.277\\nsamples = 452\\nvalue = [377, 75]'),\n",
       " Text(0.29411764705882354, 0.08333333333333333, 'gini = 0.34\\nsamples = 309\\nvalue = [242, 67]'),\n",
       " Text(0.4117647058823529, 0.08333333333333333, 'gini = 0.106\\nsamples = 143\\nvalue = [135, 8]'),\n",
       " Text(0.5294117647058824, 0.4166666666666667, 'x[2] <= 0.533\\ngini = 0.499\\nsamples = 46\\nvalue = [24, 22]'),\n",
       " Text(0.47058823529411764, 0.25, 'gini = 0.266\\nsamples = 19\\nvalue = [16, 3]'),\n",
       " Text(0.5882352941176471, 0.25, 'gini = 0.417\\nsamples = 27\\nvalue = [8, 19]'),\n",
       " Text(0.7058823529411765, 0.5833333333333334, 'x[3] <= 0.059\\ngini = 0.424\\nsamples = 82\\nvalue = [25.0, 57.0]'),\n",
       " Text(0.6470588235294118, 0.4166666666666667, 'gini = 0.432\\nsamples = 19\\nvalue = [13, 6]'),\n",
       " Text(0.7647058823529411, 0.4166666666666667, 'gini = 0.308\\nsamples = 63\\nvalue = [12, 51]'),\n",
       " Text(0.8823529411764706, 0.75, 'x[32] <= 0.5\\ngini = 0.5\\nsamples = 255\\nvalue = [126, 129]'),\n",
       " Text(0.8235294117647058, 0.5833333333333334, 'gini = 0.473\\nsamples = 94\\nvalue = [58, 36]'),\n",
       " Text(0.9411764705882353, 0.5833333333333334, 'gini = 0.488\\nsamples = 161\\nvalue = [68, 93]')]"
      ]
     },
     "execution_count": 12,
     "metadata": {},
     "output_type": "execute_result"
    },
    {
     "data": {
      "image/png": "[encoded data removed]",
      "text/plain": [
       "<Figure size 1000x1000 with 1 Axes>"
      ]
     },
     "metadata": {},
     "output_type": "display_data"
    }
   ],
   "source": [
    "grid_search = GridSearchCV(\n",
    "    DecisionTreeClassifier(),\n",
    "    param_grid = {\n",
    "        \"max_depth\": [1, 5, 7, 15, 20],\n",
    "        \"min_samples_leaf\": [2, 5, 10, 12],\n",
    "        \"max_leaf_nodes\": [5, 10, 20]\n",
    "    },\n",
    "    scoring = make_scorer(f1_score),\n",
    "    cv = k_fold\n",
    ")\n",
    "grid_search.fit(bank_attributes_train, bank_labels_train)\n",
    "\n",
    "tree_classifier = grid_search.best_estimator_\n",
    "\n",
    "print(\"Decision tree; best score:\", grid_search.best_score_)\n",
    "\n",
    "plt.figure(figsize = (10, 10))\n",
    "plot_tree(tree_classifier)"
   ]
  },
  {
   "cell_type": "code",
   "execution_count": 13,
   "metadata": {
    "deletable": false,
    "editable": false,
    "nbgrader": {
     "cell_type": "code",
     "checksum": "f0a46b7e34d4f16e0c62f00ecf18393a",
     "grade": true,
     "grade_id": "cell-8a9d43f3f99d1c09",
     "locked": true,
     "points": 2,
     "schema_version": 3,
     "solution": false
    }
   },
   "outputs": [],
   "source": [
    "assert_is_not_none(grid_search)\n",
    "assert_is_not_none(tree_classifier)"
   ]
  },
  {
   "cell_type": "markdown",
   "metadata": {},
   "source": [
    "### 6. Random Forest (1 point)\n",
    "Use cross-validation to train and optimize the hyperparameters for a random forest classifier. Use the same technique as before.\n",
    "\n",
    "Use the following grid:\n",
    "* `n_estimators`: 100, 200, 300 \n",
    "* `max_depth`: 20, 50, 100\n",
    "\n",
    "Note that this grid is on the small side but this is mainly due to performance reasons. Also note that the training will take some time.\n",
    "\n",
    "Save the grid results in `grid_search`. Save the best classifier in `forest_classifier`.\n",
    "\n",
    "Optionally, you can print and / or visualize the cross-validation results and the best chosen parameters.\n",
    "\n",
    "Due to the relatively slow training, we've chosen low values for the parameters. The performance of the random forest will be worse than the decision tree. This is not necessarily the case in general, it's due to the parameters we've chosen to try."
   ]
  },
  {
   "cell_type": "code",
   "execution_count": 14,
   "metadata": {
    "deletable": false,
    "nbgrader": {
     "cell_type": "code",
     "checksum": "671769b328ea72590acfd5212698421c",
     "grade": false,
     "grade_id": "cell-965717809a95920b",
     "locked": false,
     "schema_version": 3,
     "solution": true
    }
   },
   "outputs": [
    {
     "name": "stdout",
     "output_type": "stream",
     "text": [
      "Random forest; best score: 0.4032583215104223\n"
     ]
    },
    {
     "data": {
      "text/plain": [
       "[Text(0.7132352941176471, 0.9166666666666666, 'x[3] <= 0.212\\ngini = 0.204\\nsamples = 3164\\nvalue = [2799, 365]'),\n",
       " Text(0.5441176470588235, 0.75, 'x[49] <= 0.5\\ngini = 0.149\\nsamples = 2909\\nvalue = [2673, 236]'),\n",
       " Text(0.38235294117647056, 0.5833333333333334, 'x[45] <= 0.5\\ngini = 0.119\\nsamples = 2827\\nvalue = [2648, 179]'),\n",
       " Text(0.23529411764705882, 0.4166666666666667, 'x[3] <= 0.113\\ngini = 0.107\\nsamples = 2781\\nvalue = [2624, 157]'),\n",
       " Text(0.11764705882352941, 0.25, 'x[42] <= 0.5\\ngini = 0.068\\nsamples = 2329\\nvalue = [2247, 82]'),\n",
       " Text(0.058823529411764705, 0.08333333333333333, 'gini = 0.061\\nsamples = 2302\\nvalue = [2230, 72]'),\n",
       " Text(0.17647058823529413, 0.08333333333333333, 'gini = 0.466\\nsamples = 27\\nvalue = [17, 10]'),\n",
       " Text(0.35294117647058826, 0.25, 'x[34] <= 0.5\\ngini = 0.277\\nsamples = 452\\nvalue = [377, 75]'),\n",
       " Text(0.29411764705882354, 0.08333333333333333, 'gini = 0.34\\nsamples = 309\\nvalue = [242, 67]'),\n",
       " Text(0.4117647058823529, 0.08333333333333333, 'gini = 0.106\\nsamples = 143\\nvalue = [135, 8]'),\n",
       " Text(0.5294117647058824, 0.4166666666666667, 'x[2] <= 0.533\\ngini = 0.499\\nsamples = 46\\nvalue = [24, 22]'),\n",
       " Text(0.47058823529411764, 0.25, 'gini = 0.266\\nsamples = 19\\nvalue = [16, 3]'),\n",
       " Text(0.5882352941176471, 0.25, 'gini = 0.417\\nsamples = 27\\nvalue = [8, 19]'),\n",
       " Text(0.7058823529411765, 0.5833333333333334, 'x[3] <= 0.059\\ngini = 0.424\\nsamples = 82\\nvalue = [25.0, 57.0]'),\n",
       " Text(0.6470588235294118, 0.4166666666666667, 'gini = 0.432\\nsamples = 19\\nvalue = [13, 6]'),\n",
       " Text(0.7647058823529411, 0.4166666666666667, 'gini = 0.308\\nsamples = 63\\nvalue = [12, 51]'),\n",
       " Text(0.8823529411764706, 0.75, 'x[32] <= 0.5\\ngini = 0.5\\nsamples = 255\\nvalue = [126, 129]'),\n",
       " Text(0.8235294117647058, 0.5833333333333334, 'gini = 0.473\\nsamples = 94\\nvalue = [58, 36]'),\n",
       " Text(0.9411764705882353, 0.5833333333333334, 'gini = 0.488\\nsamples = 161\\nvalue = [68, 93]')]"
      ]
     },
     "execution_count": 14,
     "metadata": {},
     "output_type": "execute_result"
    },
    {
     "data": {
      "image/png": "[encoded data removed]",
      "text/plain": [
       "<Figure size 1000x1000 with 1 Axes>"
      ]
     },
     "metadata": {},
     "output_type": "display_data"
    }
   ],
   "source": [
    "grid_search = GridSearchCV(\n",
    "    RandomForestClassifier(),\n",
    "    param_grid = {\n",
    "        \"n_estimators\": [100, 200, 300 ],\n",
    "        \"max_depth\": [20, 50, 100],\n",
    "    },\n",
    "    scoring = make_scorer(f1_score),\n",
    "    cv = k_fold\n",
    ")\n",
    "grid_search.fit(bank_attributes_train, bank_labels_train)\n",
    "\n",
    "forest_classifier = grid_search.best_estimator_\n",
    "\n",
    "print(\"Random forest; best score:\", grid_search.best_score_)\n",
    "\n",
    "plt.figure(figsize = (10, 10))\n",
    "plot_tree(tree_classifier)"
   ]
  },
  {
   "cell_type": "code",
   "execution_count": 15,
   "metadata": {
    "deletable": false,
    "editable": false,
    "nbgrader": {
     "cell_type": "code",
     "checksum": "14e77aede1b15c71b9e6802012516c1d",
     "grade": true,
     "grade_id": "cell-5cdc884e24e42fec",
     "locked": true,
     "points": 1,
     "schema_version": 3,
     "solution": false
    }
   },
   "outputs": [],
   "source": [
    "assert_is_not_none(grid_search)\n",
    "assert_is_not_none(forest_classifier)"
   ]
  },
  {
   "cell_type": "markdown",
   "metadata": {},
   "source": [
    "### 7. Linear SVM (1 point)\n",
    "Use cross-validation to train and optimize the hyperparameters for a linear support vector machine. Use the same technique as before.\n",
    "\n",
    "Use the following grid:\n",
    "* `C`: 0.1, 0.5, 0.8, 1, 1.5, 2, 6, 10, 15, 20\n",
    "\n",
    "Note that we're choosing relatively small values for `C`. This is allowed because our data is normalized.\n",
    "\n",
    "Save the grid results in `grid_search`. Save the best classifier in `linear_svm_classifier`. There are many ways to create a linear SVM classifier. Look up the `sklearn` docs to choose the fastest one (in terms of performance).\n",
    "\n",
    "Optionally, you can print and / or visualize the cross-validation results and the best chosen parameters."
   ]
  },
  {
   "cell_type": "code",
   "execution_count": 16,
   "metadata": {
    "deletable": false,
    "nbgrader": {
     "cell_type": "code",
     "checksum": "e19571c5e83d0b7d29d953b9ace63b42",
     "grade": false,
     "grade_id": "cell-dbc74911ea58e898",
     "locked": false,
     "schema_version": 3,
     "solution": true
    }
   },
   "outputs": [
    {
     "name": "stderr",
     "output_type": "stream",
     "text": [
      "c:\\Boyko Boev\\SoftUni-Machine-Learning-September-2022\\.venv\\Lib\\site-packages\\sklearn\\svm\\_classes.py:31: FutureWarning: The default value of `dual` will change from `True` to `'auto'` in 1.5. Set the value of `dual` explicitly to suppress the warning.\n",
      "  warnings.warn(\n",
      "c:\\Boyko Boev\\SoftUni-Machine-Learning-September-2022\\.venv\\Lib\\site-packages\\sklearn\\svm\\_classes.py:31: FutureWarning: The default value of `dual` will change from `True` to `'auto'` in 1.5. Set the value of `dual` explicitly to suppress the warning.\n",
      "  warnings.warn(\n",
      "c:\\Boyko Boev\\SoftUni-Machine-Learning-September-2022\\.venv\\Lib\\site-packages\\sklearn\\svm\\_classes.py:31: FutureWarning: The default value of `dual` will change from `True` to `'auto'` in 1.5. Set the value of `dual` explicitly to suppress the warning.\n",
      "  warnings.warn(\n",
      "c:\\Boyko Boev\\SoftUni-Machine-Learning-September-2022\\.venv\\Lib\\site-packages\\sklearn\\svm\\_classes.py:31: FutureWarning: The default value of `dual` will change from `True` to `'auto'` in 1.5. Set the value of `dual` explicitly to suppress the warning.\n",
      "  warnings.warn(\n",
      "c:\\Boyko Boev\\SoftUni-Machine-Learning-September-2022\\.venv\\Lib\\site-packages\\sklearn\\svm\\_classes.py:31: FutureWarning: The default value of `dual` will change from `True` to `'auto'` in 1.5. Set the value of `dual` explicitly to suppress the warning.\n",
      "  warnings.warn(\n",
      "c:\\Boyko Boev\\SoftUni-Machine-Learning-September-2022\\.venv\\Lib\\site-packages\\sklearn\\svm\\_classes.py:31: FutureWarning: The default value of `dual` will change from `True` to `'auto'` in 1.5. Set the value of `dual` explicitly to suppress the warning.\n",
      "  warnings.warn(\n",
      "c:\\Boyko Boev\\SoftUni-Machine-Learning-September-2022\\.venv\\Lib\\site-packages\\sklearn\\svm\\_classes.py:31: FutureWarning: The default value of `dual` will change from `True` to `'auto'` in 1.5. Set the value of `dual` explicitly to suppress the warning.\n",
      "  warnings.warn(\n",
      "c:\\Boyko Boev\\SoftUni-Machine-Learning-September-2022\\.venv\\Lib\\site-packages\\sklearn\\svm\\_classes.py:31: FutureWarning: The default value of `dual` will change from `True` to `'auto'` in 1.5. Set the value of `dual` explicitly to suppress the warning.\n",
      "  warnings.warn(\n",
      "c:\\Boyko Boev\\SoftUni-Machine-Learning-September-2022\\.venv\\Lib\\site-packages\\sklearn\\svm\\_classes.py:31: FutureWarning: The default value of `dual` will change from `True` to `'auto'` in 1.5. Set the value of `dual` explicitly to suppress the warning.\n",
      "  warnings.warn(\n",
      "c:\\Boyko Boev\\SoftUni-Machine-Learning-September-2022\\.venv\\Lib\\site-packages\\sklearn\\svm\\_classes.py:31: FutureWarning: The default value of `dual` will change from `True` to `'auto'` in 1.5. Set the value of `dual` explicitly to suppress the warning.\n",
      "  warnings.warn(\n",
      "c:\\Boyko Boev\\SoftUni-Machine-Learning-September-2022\\.venv\\Lib\\site-packages\\sklearn\\svm\\_classes.py:31: FutureWarning: The default value of `dual` will change from `True` to `'auto'` in 1.5. Set the value of `dual` explicitly to suppress the warning.\n",
      "  warnings.warn(\n",
      "c:\\Boyko Boev\\SoftUni-Machine-Learning-September-2022\\.venv\\Lib\\site-packages\\sklearn\\svm\\_classes.py:31: FutureWarning: The default value of `dual` will change from `True` to `'auto'` in 1.5. Set the value of `dual` explicitly to suppress the warning.\n",
      "  warnings.warn(\n",
      "c:\\Boyko Boev\\SoftUni-Machine-Learning-September-2022\\.venv\\Lib\\site-packages\\sklearn\\svm\\_classes.py:31: FutureWarning: The default value of `dual` will change from `True` to `'auto'` in 1.5. Set the value of `dual` explicitly to suppress the warning.\n",
      "  warnings.warn(\n",
      "c:\\Boyko Boev\\SoftUni-Machine-Learning-September-2022\\.venv\\Lib\\site-packages\\sklearn\\svm\\_classes.py:31: FutureWarning: The default value of `dual` will change from `True` to `'auto'` in 1.5. Set the value of `dual` explicitly to suppress the warning.\n",
      "  warnings.warn(\n",
      "c:\\Boyko Boev\\SoftUni-Machine-Learning-September-2022\\.venv\\Lib\\site-packages\\sklearn\\svm\\_classes.py:31: FutureWarning: The default value of `dual` will change from `True` to `'auto'` in 1.5. Set the value of `dual` explicitly to suppress the warning.\n",
      "  warnings.warn(\n",
      "c:\\Boyko Boev\\SoftUni-Machine-Learning-September-2022\\.venv\\Lib\\site-packages\\sklearn\\svm\\_classes.py:31: FutureWarning: The default value of `dual` will change from `True` to `'auto'` in 1.5. Set the value of `dual` explicitly to suppress the warning.\n",
      "  warnings.warn(\n",
      "c:\\Boyko Boev\\SoftUni-Machine-Learning-September-2022\\.venv\\Lib\\site-packages\\sklearn\\svm\\_classes.py:31: FutureWarning: The default value of `dual` will change from `True` to `'auto'` in 1.5. Set the value of `dual` explicitly to suppress the warning.\n",
      "  warnings.warn(\n",
      "c:\\Boyko Boev\\SoftUni-Machine-Learning-September-2022\\.venv\\Lib\\site-packages\\sklearn\\svm\\_classes.py:31: FutureWarning: The default value of `dual` will change from `True` to `'auto'` in 1.5. Set the value of `dual` explicitly to suppress the warning.\n",
      "  warnings.warn(\n",
      "c:\\Boyko Boev\\SoftUni-Machine-Learning-September-2022\\.venv\\Lib\\site-packages\\sklearn\\svm\\_classes.py:31: FutureWarning: The default value of `dual` will change from `True` to `'auto'` in 1.5. Set the value of `dual` explicitly to suppress the warning.\n",
      "  warnings.warn(\n",
      "c:\\Boyko Boev\\SoftUni-Machine-Learning-September-2022\\.venv\\Lib\\site-packages\\sklearn\\svm\\_classes.py:31: FutureWarning: The default value of `dual` will change from `True` to `'auto'` in 1.5. Set the value of `dual` explicitly to suppress the warning.\n",
      "  warnings.warn(\n",
      "c:\\Boyko Boev\\SoftUni-Machine-Learning-September-2022\\.venv\\Lib\\site-packages\\sklearn\\svm\\_classes.py:31: FutureWarning: The default value of `dual` will change from `True` to `'auto'` in 1.5. Set the value of `dual` explicitly to suppress the warning.\n",
      "  warnings.warn(\n",
      "c:\\Boyko Boev\\SoftUni-Machine-Learning-September-2022\\.venv\\Lib\\site-packages\\sklearn\\svm\\_classes.py:31: FutureWarning: The default value of `dual` will change from `True` to `'auto'` in 1.5. Set the value of `dual` explicitly to suppress the warning.\n",
      "  warnings.warn(\n",
      "c:\\Boyko Boev\\SoftUni-Machine-Learning-September-2022\\.venv\\Lib\\site-packages\\sklearn\\svm\\_classes.py:31: FutureWarning: The default value of `dual` will change from `True` to `'auto'` in 1.5. Set the value of `dual` explicitly to suppress the warning.\n",
      "  warnings.warn(\n",
      "c:\\Boyko Boev\\SoftUni-Machine-Learning-September-2022\\.venv\\Lib\\site-packages\\sklearn\\svm\\_classes.py:31: FutureWarning: The default value of `dual` will change from `True` to `'auto'` in 1.5. Set the value of `dual` explicitly to suppress the warning.\n",
      "  warnings.warn(\n",
      "c:\\Boyko Boev\\SoftUni-Machine-Learning-September-2022\\.venv\\Lib\\site-packages\\sklearn\\svm\\_classes.py:31: FutureWarning: The default value of `dual` will change from `True` to `'auto'` in 1.5. Set the value of `dual` explicitly to suppress the warning.\n",
      "  warnings.warn(\n",
      "c:\\Boyko Boev\\SoftUni-Machine-Learning-September-2022\\.venv\\Lib\\site-packages\\sklearn\\svm\\_classes.py:31: FutureWarning: The default value of `dual` will change from `True` to `'auto'` in 1.5. Set the value of `dual` explicitly to suppress the warning.\n",
      "  warnings.warn(\n",
      "c:\\Boyko Boev\\SoftUni-Machine-Learning-September-2022\\.venv\\Lib\\site-packages\\sklearn\\svm\\_classes.py:31: FutureWarning: The default value of `dual` will change from `True` to `'auto'` in 1.5. Set the value of `dual` explicitly to suppress the warning.\n",
      "  warnings.warn(\n",
      "c:\\Boyko Boev\\SoftUni-Machine-Learning-September-2022\\.venv\\Lib\\site-packages\\sklearn\\svm\\_classes.py:31: FutureWarning: The default value of `dual` will change from `True` to `'auto'` in 1.5. Set the value of `dual` explicitly to suppress the warning.\n",
      "  warnings.warn(\n",
      "c:\\Boyko Boev\\SoftUni-Machine-Learning-September-2022\\.venv\\Lib\\site-packages\\sklearn\\svm\\_classes.py:31: FutureWarning: The default value of `dual` will change from `True` to `'auto'` in 1.5. Set the value of `dual` explicitly to suppress the warning.\n",
      "  warnings.warn(\n",
      "c:\\Boyko Boev\\SoftUni-Machine-Learning-September-2022\\.venv\\Lib\\site-packages\\sklearn\\svm\\_classes.py:31: FutureWarning: The default value of `dual` will change from `True` to `'auto'` in 1.5. Set the value of `dual` explicitly to suppress the warning.\n",
      "  warnings.warn(\n",
      "c:\\Boyko Boev\\SoftUni-Machine-Learning-September-2022\\.venv\\Lib\\site-packages\\sklearn\\svm\\_classes.py:31: FutureWarning: The default value of `dual` will change from `True` to `'auto'` in 1.5. Set the value of `dual` explicitly to suppress the warning.\n",
      "  warnings.warn(\n",
      "c:\\Boyko Boev\\SoftUni-Machine-Learning-September-2022\\.venv\\Lib\\site-packages\\sklearn\\svm\\_base.py:1237: ConvergenceWarning: Liblinear failed to converge, increase the number of iterations.\n",
      "  warnings.warn(\n",
      "c:\\Boyko Boev\\SoftUni-Machine-Learning-September-2022\\.venv\\Lib\\site-packages\\sklearn\\svm\\_classes.py:31: FutureWarning: The default value of `dual` will change from `True` to `'auto'` in 1.5. Set the value of `dual` explicitly to suppress the warning.\n",
      "  warnings.warn(\n",
      "c:\\Boyko Boev\\SoftUni-Machine-Learning-September-2022\\.venv\\Lib\\site-packages\\sklearn\\svm\\_base.py:1237: ConvergenceWarning: Liblinear failed to converge, increase the number of iterations.\n",
      "  warnings.warn(\n",
      "c:\\Boyko Boev\\SoftUni-Machine-Learning-September-2022\\.venv\\Lib\\site-packages\\sklearn\\svm\\_classes.py:31: FutureWarning: The default value of `dual` will change from `True` to `'auto'` in 1.5. Set the value of `dual` explicitly to suppress the warning.\n",
      "  warnings.warn(\n",
      "c:\\Boyko Boev\\SoftUni-Machine-Learning-September-2022\\.venv\\Lib\\site-packages\\sklearn\\svm\\_base.py:1237: ConvergenceWarning: Liblinear failed to converge, increase the number of iterations.\n",
      "  warnings.warn(\n",
      "c:\\Boyko Boev\\SoftUni-Machine-Learning-September-2022\\.venv\\Lib\\site-packages\\sklearn\\svm\\_classes.py:31: FutureWarning: The default value of `dual` will change from `True` to `'auto'` in 1.5. Set the value of `dual` explicitly to suppress the warning.\n",
      "  warnings.warn(\n",
      "c:\\Boyko Boev\\SoftUni-Machine-Learning-September-2022\\.venv\\Lib\\site-packages\\sklearn\\svm\\_base.py:1237: ConvergenceWarning: Liblinear failed to converge, increase the number of iterations.\n",
      "  warnings.warn(\n",
      "c:\\Boyko Boev\\SoftUni-Machine-Learning-September-2022\\.venv\\Lib\\site-packages\\sklearn\\svm\\_classes.py:31: FutureWarning: The default value of `dual` will change from `True` to `'auto'` in 1.5. Set the value of `dual` explicitly to suppress the warning.\n",
      "  warnings.warn(\n",
      "c:\\Boyko Boev\\SoftUni-Machine-Learning-September-2022\\.venv\\Lib\\site-packages\\sklearn\\svm\\_base.py:1237: ConvergenceWarning: Liblinear failed to converge, increase the number of iterations.\n",
      "  warnings.warn(\n",
      "c:\\Boyko Boev\\SoftUni-Machine-Learning-September-2022\\.venv\\Lib\\site-packages\\sklearn\\svm\\_classes.py:31: FutureWarning: The default value of `dual` will change from `True` to `'auto'` in 1.5. Set the value of `dual` explicitly to suppress the warning.\n",
      "  warnings.warn(\n",
      "c:\\Boyko Boev\\SoftUni-Machine-Learning-September-2022\\.venv\\Lib\\site-packages\\sklearn\\svm\\_base.py:1237: ConvergenceWarning: Liblinear failed to converge, increase the number of iterations.\n",
      "  warnings.warn(\n",
      "c:\\Boyko Boev\\SoftUni-Machine-Learning-September-2022\\.venv\\Lib\\site-packages\\sklearn\\svm\\_classes.py:31: FutureWarning: The default value of `dual` will change from `True` to `'auto'` in 1.5. Set the value of `dual` explicitly to suppress the warning.\n",
      "  warnings.warn(\n",
      "c:\\Boyko Boev\\SoftUni-Machine-Learning-September-2022\\.venv\\Lib\\site-packages\\sklearn\\svm\\_base.py:1237: ConvergenceWarning: Liblinear failed to converge, increase the number of iterations.\n",
      "  warnings.warn(\n",
      "c:\\Boyko Boev\\SoftUni-Machine-Learning-September-2022\\.venv\\Lib\\site-packages\\sklearn\\svm\\_classes.py:31: FutureWarning: The default value of `dual` will change from `True` to `'auto'` in 1.5. Set the value of `dual` explicitly to suppress the warning.\n",
      "  warnings.warn(\n",
      "c:\\Boyko Boev\\SoftUni-Machine-Learning-September-2022\\.venv\\Lib\\site-packages\\sklearn\\svm\\_base.py:1237: ConvergenceWarning: Liblinear failed to converge, increase the number of iterations.\n",
      "  warnings.warn(\n",
      "c:\\Boyko Boev\\SoftUni-Machine-Learning-September-2022\\.venv\\Lib\\site-packages\\sklearn\\svm\\_classes.py:31: FutureWarning: The default value of `dual` will change from `True` to `'auto'` in 1.5. Set the value of `dual` explicitly to suppress the warning.\n",
      "  warnings.warn(\n",
      "c:\\Boyko Boev\\SoftUni-Machine-Learning-September-2022\\.venv\\Lib\\site-packages\\sklearn\\svm\\_base.py:1237: ConvergenceWarning: Liblinear failed to converge, increase the number of iterations.\n",
      "  warnings.warn(\n",
      "c:\\Boyko Boev\\SoftUni-Machine-Learning-September-2022\\.venv\\Lib\\site-packages\\sklearn\\svm\\_classes.py:31: FutureWarning: The default value of `dual` will change from `True` to `'auto'` in 1.5. Set the value of `dual` explicitly to suppress the warning.\n",
      "  warnings.warn(\n",
      "c:\\Boyko Boev\\SoftUni-Machine-Learning-September-2022\\.venv\\Lib\\site-packages\\sklearn\\svm\\_base.py:1237: ConvergenceWarning: Liblinear failed to converge, increase the number of iterations.\n",
      "  warnings.warn(\n",
      "c:\\Boyko Boev\\SoftUni-Machine-Learning-September-2022\\.venv\\Lib\\site-packages\\sklearn\\svm\\_classes.py:31: FutureWarning: The default value of `dual` will change from `True` to `'auto'` in 1.5. Set the value of `dual` explicitly to suppress the warning.\n",
      "  warnings.warn(\n",
      "c:\\Boyko Boev\\SoftUni-Machine-Learning-September-2022\\.venv\\Lib\\site-packages\\sklearn\\svm\\_base.py:1237: ConvergenceWarning: Liblinear failed to converge, increase the number of iterations.\n",
      "  warnings.warn(\n",
      "c:\\Boyko Boev\\SoftUni-Machine-Learning-September-2022\\.venv\\Lib\\site-packages\\sklearn\\svm\\_classes.py:31: FutureWarning: The default value of `dual` will change from `True` to `'auto'` in 1.5. Set the value of `dual` explicitly to suppress the warning.\n",
      "  warnings.warn(\n",
      "c:\\Boyko Boev\\SoftUni-Machine-Learning-September-2022\\.venv\\Lib\\site-packages\\sklearn\\svm\\_base.py:1237: ConvergenceWarning: Liblinear failed to converge, increase the number of iterations.\n",
      "  warnings.warn(\n",
      "c:\\Boyko Boev\\SoftUni-Machine-Learning-September-2022\\.venv\\Lib\\site-packages\\sklearn\\svm\\_classes.py:31: FutureWarning: The default value of `dual` will change from `True` to `'auto'` in 1.5. Set the value of `dual` explicitly to suppress the warning.\n",
      "  warnings.warn(\n",
      "c:\\Boyko Boev\\SoftUni-Machine-Learning-September-2022\\.venv\\Lib\\site-packages\\sklearn\\svm\\_base.py:1237: ConvergenceWarning: Liblinear failed to converge, increase the number of iterations.\n",
      "  warnings.warn(\n",
      "c:\\Boyko Boev\\SoftUni-Machine-Learning-September-2022\\.venv\\Lib\\site-packages\\sklearn\\svm\\_classes.py:31: FutureWarning: The default value of `dual` will change from `True` to `'auto'` in 1.5. Set the value of `dual` explicitly to suppress the warning.\n",
      "  warnings.warn(\n",
      "c:\\Boyko Boev\\SoftUni-Machine-Learning-September-2022\\.venv\\Lib\\site-packages\\sklearn\\svm\\_base.py:1237: ConvergenceWarning: Liblinear failed to converge, increase the number of iterations.\n",
      "  warnings.warn(\n",
      "c:\\Boyko Boev\\SoftUni-Machine-Learning-September-2022\\.venv\\Lib\\site-packages\\sklearn\\svm\\_classes.py:31: FutureWarning: The default value of `dual` will change from `True` to `'auto'` in 1.5. Set the value of `dual` explicitly to suppress the warning.\n",
      "  warnings.warn(\n",
      "c:\\Boyko Boev\\SoftUni-Machine-Learning-September-2022\\.venv\\Lib\\site-packages\\sklearn\\svm\\_base.py:1237: ConvergenceWarning: Liblinear failed to converge, increase the number of iterations.\n",
      "  warnings.warn(\n",
      "c:\\Boyko Boev\\SoftUni-Machine-Learning-September-2022\\.venv\\Lib\\site-packages\\sklearn\\svm\\_classes.py:31: FutureWarning: The default value of `dual` will change from `True` to `'auto'` in 1.5. Set the value of `dual` explicitly to suppress the warning.\n",
      "  warnings.warn(\n",
      "c:\\Boyko Boev\\SoftUni-Machine-Learning-September-2022\\.venv\\Lib\\site-packages\\sklearn\\svm\\_base.py:1237: ConvergenceWarning: Liblinear failed to converge, increase the number of iterations.\n",
      "  warnings.warn(\n",
      "c:\\Boyko Boev\\SoftUni-Machine-Learning-September-2022\\.venv\\Lib\\site-packages\\sklearn\\svm\\_classes.py:31: FutureWarning: The default value of `dual` will change from `True` to `'auto'` in 1.5. Set the value of `dual` explicitly to suppress the warning.\n",
      "  warnings.warn(\n",
      "c:\\Boyko Boev\\SoftUni-Machine-Learning-September-2022\\.venv\\Lib\\site-packages\\sklearn\\svm\\_base.py:1237: ConvergenceWarning: Liblinear failed to converge, increase the number of iterations.\n",
      "  warnings.warn(\n",
      "c:\\Boyko Boev\\SoftUni-Machine-Learning-September-2022\\.venv\\Lib\\site-packages\\sklearn\\svm\\_classes.py:31: FutureWarning: The default value of `dual` will change from `True` to `'auto'` in 1.5. Set the value of `dual` explicitly to suppress the warning.\n",
      "  warnings.warn(\n",
      "c:\\Boyko Boev\\SoftUni-Machine-Learning-September-2022\\.venv\\Lib\\site-packages\\sklearn\\svm\\_base.py:1237: ConvergenceWarning: Liblinear failed to converge, increase the number of iterations.\n",
      "  warnings.warn(\n",
      "c:\\Boyko Boev\\SoftUni-Machine-Learning-September-2022\\.venv\\Lib\\site-packages\\sklearn\\svm\\_classes.py:31: FutureWarning: The default value of `dual` will change from `True` to `'auto'` in 1.5. Set the value of `dual` explicitly to suppress the warning.\n",
      "  warnings.warn(\n"
     ]
    },
    {
     "name": "stdout",
     "output_type": "stream",
     "text": [
      "Linear SVM; best score: 0.43774259696589796\n"
     ]
    },
    {
     "name": "stderr",
     "output_type": "stream",
     "text": [
      "c:\\Boyko Boev\\SoftUni-Machine-Learning-September-2022\\.venv\\Lib\\site-packages\\sklearn\\svm\\_base.py:1237: ConvergenceWarning: Liblinear failed to converge, increase the number of iterations.\n",
      "  warnings.warn(\n",
      "c:\\Boyko Boev\\SoftUni-Machine-Learning-September-2022\\.venv\\Lib\\site-packages\\sklearn\\svm\\_classes.py:31: FutureWarning: The default value of `dual` will change from `True` to `'auto'` in 1.5. Set the value of `dual` explicitly to suppress the warning.\n",
      "  warnings.warn(\n",
      "c:\\Boyko Boev\\SoftUni-Machine-Learning-September-2022\\.venv\\Lib\\site-packages\\sklearn\\svm\\_base.py:1237: ConvergenceWarning: Liblinear failed to converge, increase the number of iterations.\n",
      "  warnings.warn(\n",
      "c:\\Boyko Boev\\SoftUni-Machine-Learning-September-2022\\.venv\\Lib\\site-packages\\sklearn\\svm\\_classes.py:31: FutureWarning: The default value of `dual` will change from `True` to `'auto'` in 1.5. Set the value of `dual` explicitly to suppress the warning.\n",
      "  warnings.warn(\n",
      "c:\\Boyko Boev\\SoftUni-Machine-Learning-September-2022\\.venv\\Lib\\site-packages\\sklearn\\svm\\_base.py:1237: ConvergenceWarning: Liblinear failed to converge, increase the number of iterations.\n",
      "  warnings.warn(\n"
     ]
    }
   ],
   "source": [
    "grid_search = GridSearchCV(\n",
    "    LinearSVC(),\n",
    "    param_grid = {\n",
    "        \"C\": [0.1, 0.5, 0.8, 1, 1.5, 2, 6, 10, 15, 20],\n",
    "    },\n",
    "    scoring = make_scorer(f1_score),\n",
    "    cv = k_fold\n",
    ")\n",
    "grid_search.fit(bank_attributes_train, bank_labels_train)\n",
    "\n",
    "linear_svm_classifier = grid_search.best_estimator_\n",
    "\n",
    "print(\"Linear SVM; best score:\", grid_search.best_score_)"
   ]
  },
  {
   "cell_type": "code",
   "execution_count": 17,
   "metadata": {
    "deletable": false,
    "editable": false,
    "nbgrader": {
     "cell_type": "code",
     "checksum": "375ffa7de497664fe4089895b7dca13b",
     "grade": true,
     "grade_id": "cell-7e5b16fe3d5deb03",
     "locked": true,
     "points": 1,
     "schema_version": 3,
     "solution": false
    }
   },
   "outputs": [],
   "source": [
    "assert_is_not_none(grid_search)\n",
    "assert_is_not_none(linear_svm_classifier)"
   ]
  },
  {
   "cell_type": "markdown",
   "metadata": {},
   "source": [
    "### 8. Gaussian SVM (1 point)\n",
    "Use cross-validation to train and optimize the hyperparameters for an SVM with a Gaussian kernel. Use the same technique as before.\n",
    "\n",
    "Use the following grid:\n",
    "* `C`: 10, 15, 20, 50, 200\n",
    "* `gamma`: 0.001, 0.01, 0.1, 0.2\n",
    "\n",
    "Note that this time we give larger values of `C` because the governing parameter here is `gamma`.\n",
    "\n",
    "Save the grid results in `grid_search`. Save the best classifier in `gaussian_svm_classifier`.\n",
    "\n",
    "Optionally, you can print and / or visualize the cross-validation results and the best chosen parameters."
   ]
  },
  {
   "cell_type": "code",
   "execution_count": 21,
   "metadata": {
    "deletable": false,
    "nbgrader": {
     "cell_type": "code",
     "checksum": "e33ae1cd0f54a05b532e9df39d850a1a",
     "grade": false,
     "grade_id": "cell-06ab026bf98b2e69",
     "locked": false,
     "schema_version": 3,
     "solution": true
    }
   },
   "outputs": [
    {
     "name": "stdout",
     "output_type": "stream",
     "text": [
      "Gaussian SVM; best score: 0.4759091527267782\n"
     ]
    }
   ],
   "source": [
    "grid_search = GridSearchCV(\n",
    "    SVC(kernel='rbf'),\n",
    "    param_grid = {\n",
    "        \"C\": [10, 15, 20, 50, 200],\n",
    "        \"gamma\": [0.001, 0.01, 0.1, 0.2]\n",
    "    },\n",
    "    scoring = make_scorer(f1_score),\n",
    "    cv = k_fold\n",
    ")\n",
    "grid_search.fit(bank_attributes_train, bank_labels_train)\n",
    "\n",
    "gaussian_svm_classifier = grid_search.best_estimator_\n",
    "\n",
    "print(\"Gaussian SVM; best score:\", grid_search.best_score_)"
   ]
  },
  {
   "cell_type": "code",
   "execution_count": 22,
   "metadata": {
    "deletable": false,
    "editable": false,
    "nbgrader": {
     "cell_type": "code",
     "checksum": "8c81b3a26de11990ff354e812c694a31",
     "grade": true,
     "grade_id": "cell-0ba2a8ae7d45a6ad",
     "locked": true,
     "points": 1,
     "schema_version": 3,
     "solution": false
    }
   },
   "outputs": [],
   "source": [
    "assert_is_not_none(grid_search)\n",
    "assert_is_not_none(gaussian_svm_classifier)"
   ]
  },
  {
   "cell_type": "markdown",
   "metadata": {},
   "source": [
    "### 9. Compare performance on the testing data (1 point)\n",
    "Now that you've trained all your models, you've got to select the best one. This should be done on the testing data.\n",
    "\n",
    "Use the appropriate scoring metric to get the testing scores for all your models. Don't forget to pass the **testing**, not the training data. Save all scores.\n",
    "\n",
    "Choose the best classifier, based on these scores (the one with the highest test score). Of course, this is not enough. We need to look at ROC curves, track performance through other measures, debug the sources of variance in testing results, try more hyperparameters, etc. However, this is enough for an introductory lab :).\n",
    "\n",
    "Optionally, you can think of combining them into a boosted model but this is out of the scope of this lab."
   ]
  },
  {
   "cell_type": "code",
   "execution_count": 23,
   "metadata": {
    "deletable": false,
    "nbgrader": {
     "cell_type": "code",
     "checksum": "e04bd8cb12cc90f38bff21bb552e4f3d",
     "grade": false,
     "grade_id": "cell-cf416134ae2b2a62",
     "locked": false,
     "schema_version": 3,
     "solution": true
    }
   },
   "outputs": [
    {
     "name": "stdout",
     "output_type": "stream",
     "text": [
      "Testing scores:\n",
      "Decision tree: 0.8931466470154753\n",
      "Random forest: 0.8953574060427414\n",
      "Linear SVM: 0.894620486366986\n",
      "Gaussian SVM: 0.8806190125276345\n"
     ]
    }
   ],
   "source": [
    "tree_classifier_score = tree_classifier.score(bank_attributes_test, bank_labels_test)\n",
    "forest_classifier_score = forest_classifier.score(bank_attributes_test, bank_labels_test)\n",
    "linear_svm_classifier_score = linear_svm_classifier.score(bank_attributes_test, bank_labels_test)\n",
    "gaussian_svm_classifier_score = gaussian_svm_classifier.score(bank_attributes_test, bank_labels_test)\n",
    "\n",
    "print(\"Testing scores:\")\n",
    "print(\"Decision tree:\", tree_classifier_score)\n",
    "print(\"Random forest:\", forest_classifier_score)\n",
    "print(\"Linear SVM:\", linear_svm_classifier_score)\n",
    "print(\"Gaussian SVM:\", gaussian_svm_classifier_score)"
   ]
  },
  {
   "cell_type": "markdown",
   "metadata": {},
   "source": []
  }
 ],
 "metadata": {
  "kernelspec": {
   "display_name": "Python 3",
   "language": "python",
   "name": "python3"
  },
  "language_info": {
   "codemirror_mode": {
    "name": "ipython",
    "version": 3
   },
   "file_extension": ".py",
   "mimetype": "text/x-python",
   "name": "python",
   "nbconvert_exporter": "python",
   "pygments_lexer": "ipython3",
   "version": "3.12.2"
  }
 },
 "nbformat": 4,
 "nbformat_minor": 2
}
